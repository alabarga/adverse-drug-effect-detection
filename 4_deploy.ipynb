{
 "cells": [
  {
   "cell_type": "code",
   "execution_count": 1,
   "id": "ecab2902",
   "metadata": {},
   "outputs": [],
   "source": [
    "from sagemaker.huggingface.model import HuggingFaceModel\n",
    "import sagemaker\n",
    "from sagemaker import get_execution_role"
   ]
  },
  {
   "cell_type": "code",
   "execution_count": 2,
   "id": "591e4843",
   "metadata": {},
   "outputs": [],
   "source": [
    "sess = sagemaker.Session()\n",
    "role = sagemaker.get_execution_role()\n",
    "bucket = f\"az-ade-{sess.account_id()}\""
   ]
  },
  {
   "cell_type": "code",
   "execution_count": 12,
   "id": "e25ac227",
   "metadata": {},
   "outputs": [
    {
     "data": {
      "text/plain": [
       "'az-ade-training-2021-10-05-11-20-24-189'"
      ]
     },
     "execution_count": 12,
     "metadata": {},
     "output_type": "execute_result"
    }
   ],
   "source": [
    "%store -r training_job_name\n",
    "training_job_name"
   ]
  },
  {
   "cell_type": "code",
   "execution_count": 3,
   "id": "f18f300e",
   "metadata": {},
   "outputs": [],
   "source": [
    "# create Hugging Face Model Class\n",
    "huggingface_model = HuggingFaceModel(\n",
    "   model_data=\"s3://az-ade-905847418383/training_output/huggingface-pytorch-training-2021-10-05-10-04-06-248/output/model.tar.gz\",  # path to your trained sagemaker model\n",
    "   role=role, # iam role with permissions to create an Endpoint\n",
    "   transformers_version=\"4.6\", # transformers version used\n",
    "   pytorch_version=\"1.7\", # pytorch version used\n",
    "   py_version=\"py36\", # python version of the DLC\n",
    ")"
   ]
  },
  {
   "cell_type": "code",
   "execution_count": 4,
   "id": "992c9f72",
   "metadata": {},
   "outputs": [
    {
     "name": "stdout",
     "output_type": "stream",
     "text": [
      "-------------------!"
     ]
    }
   ],
   "source": [
    "predictor = huggingface_model.deploy(\n",
    "   initial_instance_count=1,\n",
    "   instance_type=\"ml.p3.2xlarge\"\n",
    ")"
   ]
  },
  {
   "cell_type": "code",
   "execution_count": 5,
   "id": "9bb2ebb1",
   "metadata": {},
   "outputs": [],
   "source": [
    "import pandas as pd"
   ]
  },
  {
   "cell_type": "code",
   "execution_count": 6,
   "id": "cc4bb07e",
   "metadata": {},
   "outputs": [],
   "source": [
    "from datasets import load_from_disk\n",
    "from datasets.filesystems import S3FileSystem\n",
    "\n",
    "s3 = S3FileSystem(session=sess)\n",
    "\n",
    "dataset_test = load_from_disk('s3://az-ade-905847418383/processing_output/test_data/',fs=s3)\n",
    "df_test = pd.DataFrame(dataset_test)"
   ]
  },
  {
   "cell_type": "code",
   "execution_count": 7,
   "id": "3b602787",
   "metadata": {},
   "outputs": [
    {
     "data": {
      "text/html": [
       "<div>\n",
       "<style scoped>\n",
       "    .dataframe tbody tr th:only-of-type {\n",
       "        vertical-align: middle;\n",
       "    }\n",
       "\n",
       "    .dataframe tbody tr th {\n",
       "        vertical-align: top;\n",
       "    }\n",
       "\n",
       "    .dataframe thead th {\n",
       "        text-align: right;\n",
       "    }\n",
       "</style>\n",
       "<table border=\"1\" class=\"dataframe\">\n",
       "  <thead>\n",
       "    <tr style=\"text-align: right;\">\n",
       "      <th></th>\n",
       "      <th>__index_level_0__</th>\n",
       "      <th>attention_mask</th>\n",
       "      <th>input_ids</th>\n",
       "      <th>label</th>\n",
       "      <th>text</th>\n",
       "    </tr>\n",
       "  </thead>\n",
       "  <tbody>\n",
       "    <tr>\n",
       "      <th>0</th>\n",
       "      <td>4240</td>\n",
       "      <td>[1, 1, 1, 1, 1, 1, 1, 1, 1, 1, 1, 1, 1, 1, 1, ...</td>\n",
       "      <td>[101, 2057, 3189, 2006, 1037, 5179, 1011, 2095...</td>\n",
       "      <td>1</td>\n",
       "      <td>We report on a 56-year-old female who exhibite...</td>\n",
       "    </tr>\n",
       "    <tr>\n",
       "      <th>1</th>\n",
       "      <td>10746</td>\n",
       "      <td>[1, 1, 1, 1, 1, 1, 1, 1, 1, 1, 1, 1, 1, 1, 1, ...</td>\n",
       "      <td>[101, 2053, 3276, 2090, 26445, 23722, 18098, 5...</td>\n",
       "      <td>0</td>\n",
       "      <td>No relationship between amisulpride and rhabdo...</td>\n",
       "    </tr>\n",
       "    <tr>\n",
       "      <th>2</th>\n",
       "      <td>15974</td>\n",
       "      <td>[1, 1, 1, 1, 1, 1, 1, 1, 1, 1, 1, 1, 1, 1, 1, ...</td>\n",
       "      <td>[101, 17758, 13749, 20023, 2389, 8040, 3217, 3...</td>\n",
       "      <td>0</td>\n",
       "      <td>Bilateral inguinal scrofuloderma during steroi...</td>\n",
       "    </tr>\n",
       "    <tr>\n",
       "      <th>3</th>\n",
       "      <td>20248</td>\n",
       "      <td>[1, 1, 1, 1, 1, 1, 1, 1, 1, 1, 1, 1, 1, 1, 1, ...</td>\n",
       "      <td>[101, 25732, 5038, 1997, 2023, 8715, 1998, 574...</td>\n",
       "      <td>0</td>\n",
       "      <td>Prompt recognition of this syndrome and tempor...</td>\n",
       "    </tr>\n",
       "    <tr>\n",
       "      <th>4</th>\n",
       "      <td>13658</td>\n",
       "      <td>[1, 1, 1, 1, 1, 1, 1, 1, 1, 1, 1, 1, 0, 0, 0, ...</td>\n",
       "      <td>[101, 20934, 8458, 24090, 15530, 2206, 22575, ...</td>\n",
       "      <td>0</td>\n",
       "      <td>Buphthalmos following systemic steroid treatment.</td>\n",
       "    </tr>\n",
       "    <tr>\n",
       "      <th>5</th>\n",
       "      <td>5732</td>\n",
       "      <td>[1, 1, 1, 1, 1, 1, 1, 1, 1, 1, 1, 1, 1, 1, 1, ...</td>\n",
       "      <td>[101, 2028, 3287, 5776, 2007, 17758, 1040, 416...</td>\n",
       "      <td>0</td>\n",
       "      <td>One male patient with bilateral DME was treate...</td>\n",
       "    </tr>\n",
       "    <tr>\n",
       "      <th>6</th>\n",
       "      <td>18539</td>\n",
       "      <td>[1, 1, 1, 1, 1, 1, 1, 1, 1, 1, 1, 1, 1, 1, 1, ...</td>\n",
       "      <td>[101, 4281, 1024, 3078, 1051, 10755, 2937, 104...</td>\n",
       "      <td>0</td>\n",
       "      <td>BACKGROUND: Primary ovarian lymphoma is an ext...</td>\n",
       "    </tr>\n",
       "    <tr>\n",
       "      <th>7</th>\n",
       "      <td>9652</td>\n",
       "      <td>[1, 1, 1, 1, 1, 1, 1, 1, 1, 1, 1, 1, 1, 1, 1, ...</td>\n",
       "      <td>[101, 2348, 2023, 7242, 2038, 1037, 2200, 2659...</td>\n",
       "      <td>0</td>\n",
       "      <td>Although this therapy has a very low toxicity ...</td>\n",
       "    </tr>\n",
       "    <tr>\n",
       "      <th>8</th>\n",
       "      <td>18125</td>\n",
       "      <td>[1, 1, 1, 1, 1, 1, 1, 1, 1, 1, 1, 1, 1, 1, 1, ...</td>\n",
       "      <td>[101, 5001, 10464, 20389, 2100, 3936, 2009, 20...</td>\n",
       "      <td>0</td>\n",
       "      <td>Laparotomy revealed it to be unresectable.</td>\n",
       "    </tr>\n",
       "    <tr>\n",
       "      <th>9</th>\n",
       "      <td>2259</td>\n",
       "      <td>[1, 1, 1, 1, 1, 1, 1, 1, 1, 1, 1, 1, 1, 1, 1, ...</td>\n",
       "      <td>[101, 4475, 1998, 4725, 1024, 2057, 2556, 2048...</td>\n",
       "      <td>1</td>\n",
       "      <td>MATERIALS AND METHODS: We present two cases of...</td>\n",
       "    </tr>\n",
       "  </tbody>\n",
       "</table>\n",
       "</div>"
      ],
      "text/plain": [
       "   __index_level_0__                                     attention_mask  \\\n",
       "0               4240  [1, 1, 1, 1, 1, 1, 1, 1, 1, 1, 1, 1, 1, 1, 1, ...   \n",
       "1              10746  [1, 1, 1, 1, 1, 1, 1, 1, 1, 1, 1, 1, 1, 1, 1, ...   \n",
       "2              15974  [1, 1, 1, 1, 1, 1, 1, 1, 1, 1, 1, 1, 1, 1, 1, ...   \n",
       "3              20248  [1, 1, 1, 1, 1, 1, 1, 1, 1, 1, 1, 1, 1, 1, 1, ...   \n",
       "4              13658  [1, 1, 1, 1, 1, 1, 1, 1, 1, 1, 1, 1, 0, 0, 0, ...   \n",
       "5               5732  [1, 1, 1, 1, 1, 1, 1, 1, 1, 1, 1, 1, 1, 1, 1, ...   \n",
       "6              18539  [1, 1, 1, 1, 1, 1, 1, 1, 1, 1, 1, 1, 1, 1, 1, ...   \n",
       "7               9652  [1, 1, 1, 1, 1, 1, 1, 1, 1, 1, 1, 1, 1, 1, 1, ...   \n",
       "8              18125  [1, 1, 1, 1, 1, 1, 1, 1, 1, 1, 1, 1, 1, 1, 1, ...   \n",
       "9               2259  [1, 1, 1, 1, 1, 1, 1, 1, 1, 1, 1, 1, 1, 1, 1, ...   \n",
       "\n",
       "                                           input_ids  label  \\\n",
       "0  [101, 2057, 3189, 2006, 1037, 5179, 1011, 2095...      1   \n",
       "1  [101, 2053, 3276, 2090, 26445, 23722, 18098, 5...      0   \n",
       "2  [101, 17758, 13749, 20023, 2389, 8040, 3217, 3...      0   \n",
       "3  [101, 25732, 5038, 1997, 2023, 8715, 1998, 574...      0   \n",
       "4  [101, 20934, 8458, 24090, 15530, 2206, 22575, ...      0   \n",
       "5  [101, 2028, 3287, 5776, 2007, 17758, 1040, 416...      0   \n",
       "6  [101, 4281, 1024, 3078, 1051, 10755, 2937, 104...      0   \n",
       "7  [101, 2348, 2023, 7242, 2038, 1037, 2200, 2659...      0   \n",
       "8  [101, 5001, 10464, 20389, 2100, 3936, 2009, 20...      0   \n",
       "9  [101, 4475, 1998, 4725, 1024, 2057, 2556, 2048...      1   \n",
       "\n",
       "                                                text  \n",
       "0  We report on a 56-year-old female who exhibite...  \n",
       "1  No relationship between amisulpride and rhabdo...  \n",
       "2  Bilateral inguinal scrofuloderma during steroi...  \n",
       "3  Prompt recognition of this syndrome and tempor...  \n",
       "4  Buphthalmos following systemic steroid treatment.  \n",
       "5  One male patient with bilateral DME was treate...  \n",
       "6  BACKGROUND: Primary ovarian lymphoma is an ext...  \n",
       "7  Although this therapy has a very low toxicity ...  \n",
       "8         Laparotomy revealed it to be unresectable.  \n",
       "9  MATERIALS AND METHODS: We present two cases of...  "
      ]
     },
     "execution_count": 7,
     "metadata": {},
     "output_type": "execute_result"
    }
   ],
   "source": [
    "df_test.head(10)"
   ]
  },
  {
   "cell_type": "code",
   "execution_count": 8,
   "id": "de3ca6b5",
   "metadata": {},
   "outputs": [
    {
     "data": {
      "text/plain": [
       "[{'label': 'LABEL_1', 'score': 0.7323219776153564}]"
      ]
     },
     "execution_count": 8,
     "metadata": {},
     "output_type": "execute_result"
    }
   ],
   "source": [
    "ade_input= {\"inputs\": df_test.iloc[0]['text']}\n",
    "predictor.predict(ade_input)"
   ]
  },
  {
   "cell_type": "code",
   "execution_count": 9,
   "id": "a66fbf4d",
   "metadata": {},
   "outputs": [
    {
     "data": {
      "text/plain": [
       "[{'label': 'LABEL_0', 'score': 0.9939584136009216}]"
      ]
     },
     "execution_count": 9,
     "metadata": {},
     "output_type": "execute_result"
    }
   ],
   "source": [
    "ade_input= {\"inputs\": df_test.iloc[8]['text']}\n",
    "predictor.predict(ade_input)"
   ]
  },
  {
   "cell_type": "code",
   "execution_count": 10,
   "id": "214f50f3",
   "metadata": {},
   "outputs": [
    {
     "data": {
      "text/plain": [
       "[{'label': 'LABEL_1', 'score': 0.7767961621284485}]"
      ]
     },
     "execution_count": 10,
     "metadata": {},
     "output_type": "execute_result"
    }
   ],
   "source": [
    "ade_input= {\"inputs\": \"I got a rash from taking aspirin\"}\n",
    "predictor.predict(ade_input)"
   ]
  },
  {
   "cell_type": "code",
   "execution_count": 11,
   "id": "a3350299",
   "metadata": {},
   "outputs": [
    {
     "data": {
      "text/plain": [
       "[{'label': 'LABEL_0', 'score': 0.9457708597183228}]"
      ]
     },
     "execution_count": 11,
     "metadata": {},
     "output_type": "execute_result"
    }
   ],
   "source": [
    "ade_input= {\"inputs\": \"I watched football and got really excited\"}\n",
    "predictor.predict(ade_input)"
   ]
  }
 ],
 "metadata": {
  "kernelspec": {
   "display_name": "conda_pytorch_latest_p37",
   "language": "python",
   "name": "conda_pytorch_latest_p37"
  },
  "language_info": {
   "codemirror_mode": {
    "name": "ipython",
    "version": 3
   },
   "file_extension": ".py",
   "mimetype": "text/x-python",
   "name": "python",
   "nbconvert_exporter": "python",
   "pygments_lexer": "ipython3",
   "version": "3.7.10"
  }
 },
 "nbformat": 4,
 "nbformat_minor": 5
}
