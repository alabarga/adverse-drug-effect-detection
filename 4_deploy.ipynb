{
 "cells": [
  {
   "cell_type": "code",
   "execution_count": null,
   "id": "16440834",
   "metadata": {},
   "outputs": [],
   "source": [
    "from sagemaker.huggingface.model import HuggingFaceModel\n",
    "import sagemaker\n",
    "from sagemaker import get_execution_role"
   ]
  },
  {
   "cell_type": "code",
   "execution_count": null,
   "id": "44aaeafb",
   "metadata": {},
   "outputs": [],
   "source": [
    "sess = sagemaker.Session()\n",
    "role = sagemaker.get_execution_role()"
   ]
  },
  {
   "cell_type": "code",
   "execution_count": null,
   "id": "652dc239",
   "metadata": {},
   "outputs": [],
   "source": [
    "%store -r bucket\n",
    "%store -r training_job_name"
   ]
  },
  {
   "cell_type": "markdown",
   "id": "405c8972",
   "metadata": {},
   "source": [
    "### Load model from S3"
   ]
  },
  {
   "cell_type": "code",
   "execution_count": null,
   "id": "ce86ede5",
   "metadata": {},
   "outputs": [],
   "source": [
    "# create Hugging Face Model Class\n",
    "huggingface_model = HuggingFaceModel(\n",
    "    model_data=f\"s3://{bucket}/training_output/{training_job_name}/output/model.tar.gz\",\n",
    "    role=role,\n",
    "    transformers_version=\"4.6\",\n",
    "    pytorch_version=\"1.7\",\n",
    "    py_version=\"py36\",\n",
    ")"
   ]
  },
  {
   "cell_type": "markdown",
   "id": "10263fd1",
   "metadata": {},
   "source": [
    "### Deploy model"
   ]
  },
  {
   "cell_type": "code",
   "execution_count": null,
   "id": "0c640b12",
   "metadata": {},
   "outputs": [],
   "source": [
    "predictor = huggingface_model.deploy(\n",
    "   initial_instance_count=1,\n",
    "   instance_type=\"ml.p3.2xlarge\"\n",
    ")"
   ]
  },
  {
   "cell_type": "markdown",
   "id": "e63d2f37",
   "metadata": {},
   "source": [
    "### Load test dataset for inference requests"
   ]
  },
  {
   "cell_type": "code",
   "execution_count": null,
   "id": "cc73c451",
   "metadata": {},
   "outputs": [],
   "source": [
    "import pandas as pd"
   ]
  },
  {
   "cell_type": "code",
   "execution_count": null,
   "id": "5fd5de10",
   "metadata": {},
   "outputs": [],
   "source": [
    "import botocore\n",
    "from datasets.filesystems import S3FileSystem\n",
    "from datasets import load_from_disk\n",
    "\n",
    "s3_session = botocore.session.Session()\n",
    "s3 = S3FileSystem(session=s3_session)\n",
    "dataset_test = load_from_disk(f's3://{bucket}/processing_output/test_data/', fs=s3)\n",
    "df_test = pd.DataFrame(dataset_test)"
   ]
  },
  {
   "cell_type": "code",
   "execution_count": null,
   "id": "ed6470ab",
   "metadata": {},
   "outputs": [],
   "source": [
    "df_test.head(10)"
   ]
  },
  {
   "cell_type": "code",
   "execution_count": null,
   "id": "5482ee97",
   "metadata": {},
   "outputs": [],
   "source": [
    "ade_input= {\"inputs\": df_test.iloc[0]['text']}\n",
    "predictor.predict(ade_input)"
   ]
  },
  {
   "cell_type": "code",
   "execution_count": null,
   "id": "f8cf73c1",
   "metadata": {},
   "outputs": [],
   "source": [
    "ade_input= {\"inputs\": df_test.iloc[8]['text']}\n",
    "predictor.predict(ade_input)"
   ]
  },
  {
   "cell_type": "markdown",
   "id": "f80ad762",
   "metadata": {},
   "source": [
    "### Play with the model with made-up phrases"
   ]
  },
  {
   "cell_type": "code",
   "execution_count": null,
   "id": "40e2609a",
   "metadata": {},
   "outputs": [],
   "source": [
    "ade_input= {\"inputs\": \"I got a rash from taking aspirin\"}\n",
    "predictor.predict(ade_input)"
   ]
  },
  {
   "cell_type": "code",
   "execution_count": null,
   "id": "715ff008",
   "metadata": {},
   "outputs": [],
   "source": [
    "ade_input= {\"inputs\": \"I watched football and got really excited\"}\n",
    "predictor.predict(ade_input)"
   ]
  }
 ],
 "metadata": {
  "kernelspec": {
   "display_name": "conda_pytorch_latest_p37",
   "language": "python",
   "name": "conda_pytorch_latest_p37"
  },
  "language_info": {
   "codemirror_mode": {
    "name": "ipython",
    "version": 3
   },
   "file_extension": ".py",
   "mimetype": "text/x-python",
   "name": "python",
   "nbconvert_exporter": "python",
   "pygments_lexer": "ipython3",
   "version": "3.7.10"
  }
 },
 "nbformat": 4,
 "nbformat_minor": 5
}
