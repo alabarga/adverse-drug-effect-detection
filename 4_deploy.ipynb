{
 "cells": [
  {
   "cell_type": "code",
   "execution_count": null,
   "id": "2aaff8cd",
   "metadata": {},
   "outputs": [],
   "source": [
    "from sagemaker.huggingface.model import HuggingFaceModel\n",
    "import sagemaker\n",
    "from sagemaker import get_execution_role"
   ]
  },
  {
   "cell_type": "code",
   "execution_count": null,
   "id": "8819c219",
   "metadata": {},
   "outputs": [],
   "source": [
    "sess = sagemaker.Session()\n",
    "role = sagemaker.get_execution_role()"
   ]
  },
  {
   "cell_type": "code",
   "execution_count": null,
   "id": "7173d843",
   "metadata": {},
   "outputs": [],
   "source": [
    "%store -r bucket\n",
    "%store -r training_job_name"
   ]
  },
  {
   "cell_type": "markdown",
   "id": "82769490",
   "metadata": {},
   "source": [
    "### Load model from S3"
   ]
  },
  {
   "cell_type": "code",
   "execution_count": null,
   "id": "53bed99d",
   "metadata": {},
   "outputs": [],
   "source": [
    "# create Hugging Face Model Class\n",
    "huggingface_model = HuggingFaceModel(\n",
    "    model_data=f\"s3://{bucket}/training_output/{training_job_name}/output/model.tar.gz\",\n",
    "    role=role,\n",
    "    transformers_version=\"4.6\",\n",
    "    pytorch_version=\"1.7\",\n",
    "    py_version=\"py36\",\n",
    ")"
   ]
  },
  {
   "cell_type": "markdown",
   "id": "1cc90fe0",
   "metadata": {},
   "source": [
    "### Deploy model"
   ]
  },
  {
   "cell_type": "code",
   "execution_count": null,
   "id": "2a625086",
   "metadata": {},
   "outputs": [],
   "source": [
    "predictor = huggingface_model.deploy(\n",
    "   initial_instance_count=1,\n",
    "   instance_type=\"ml.p3.2xlarge\"\n",
    ")"
   ]
  },
  {
   "cell_type": "markdown",
   "id": "83c815e0",
   "metadata": {},
   "source": [
    "### Load test dataset for inference requests"
   ]
  },
  {
   "cell_type": "code",
   "execution_count": null,
   "id": "a66f075e",
   "metadata": {},
   "outputs": [],
   "source": [
    "import pandas as pd"
   ]
  },
  {
   "cell_type": "code",
   "execution_count": null,
   "id": "23a088ae",
   "metadata": {},
   "outputs": [],
   "source": [
    "import botocore\n",
    "from datasets.filesystems import S3FileSystem\n",
    "\n",
    "s3_session = botocore.session.Session()\n",
    "s3 = S3FileSystem(session=s3_session)\n",
    "dataset_test = load_from_disk(f's3://{bucket}//processing_output/test_data/', fs=s3)\n",
    "df_test = pd.DataFrame(dataset_test)"
   ]
  },
  {
   "cell_type": "code",
   "execution_count": null,
   "id": "d4b96ff4",
   "metadata": {},
   "outputs": [],
   "source": [
    "df_test.head(10)"
   ]
  },
  {
   "cell_type": "code",
   "execution_count": null,
   "id": "045f008f",
   "metadata": {},
   "outputs": [],
   "source": [
    "ade_input= {\"inputs\": df_test.iloc[0]['text']}\n",
    "predictor.predict(ade_input)"
   ]
  },
  {
   "cell_type": "code",
   "execution_count": null,
   "id": "1a23dda1",
   "metadata": {},
   "outputs": [],
   "source": [
    "ade_input= {\"inputs\": df_test.iloc[8]['text']}\n",
    "predictor.predict(ade_input)"
   ]
  },
  {
   "cell_type": "markdown",
   "id": "29bb944b",
   "metadata": {},
   "source": [
    "### Play with the model with made-up phrases"
   ]
  },
  {
   "cell_type": "code",
   "execution_count": null,
   "id": "f4c1c7dd",
   "metadata": {},
   "outputs": [],
   "source": [
    "ade_input= {\"inputs\": \"I got a rash from taking aspirin\"}\n",
    "predictor.predict(ade_input)"
   ]
  },
  {
   "cell_type": "code",
   "execution_count": null,
   "id": "c5ef01d5",
   "metadata": {},
   "outputs": [],
   "source": [
    "ade_input= {\"inputs\": \"I watched football and got really excited\"}\n",
    "predictor.predict(ade_input)"
   ]
  }
 ],
 "metadata": {
  "kernelspec": {
   "display_name": "conda_pytorch_latest_p37",
   "language": "python",
   "name": "conda_pytorch_latest_p37"
  },
  "language_info": {
   "codemirror_mode": {
    "name": "ipython",
    "version": 3
   },
   "file_extension": ".py",
   "mimetype": "text/x-python",
   "name": "python",
   "nbconvert_exporter": "python",
   "pygments_lexer": "ipython3",
   "version": "3.7.10"
  }
 },
 "nbformat": 4,
 "nbformat_minor": 5
}
