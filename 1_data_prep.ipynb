{
 "cells": [
  {
   "cell_type": "code",
   "execution_count": null,
   "metadata": {},
   "outputs": [],
   "source": [
    "!pip install datasets -q"
   ]
  },
  {
   "cell_type": "code",
   "execution_count": null,
   "metadata": {},
   "outputs": [],
   "source": [
    "!pip install sagemaker -U -q"
   ]
  },
  {
   "cell_type": "code",
   "execution_count": null,
   "metadata": {},
   "outputs": [],
   "source": [
    "!pip install s3fs==0.4.2 -U -q"
   ]
  },
  {
   "cell_type": "markdown",
   "metadata": {},
   "source": [
    "### Load dataset and have a peak:"
   ]
  },
  {
   "cell_type": "code",
   "execution_count": null,
   "metadata": {},
   "outputs": [],
   "source": [
    "# This cell is required in SageMaker Studio, otherwise the download of the dataset will throw an error.\n",
    "# After running this cell, the kernel needs to be restarted. After restarting tthe kernel, continue with the cell below (loading the dataset)\n",
    "%%capture\n",
    "import IPython\n",
    "!conda install -c conda-forge ipywidgets -y\n",
    "IPython.Application.instance().kernel.do_shutdown(True) # has to restart kernel so changes are used"
   ]
  },
  {
   "cell_type": "code",
   "execution_count": 2,
   "metadata": {},
   "outputs": [
    {
     "name": "stderr",
     "output_type": "stream",
     "text": [
      "Reusing dataset ade_corpus_v2 (/root/.cache/huggingface/datasets/ade_corpus_v2/Ade_corpus_v2_classification/1.0.0/940d61334dbfac6b01ac5d00286a2122608b8dc79706ee7e9206a1edb172c559)\n"
     ]
    },
    {
     "data": {
      "application/vnd.jupyter.widget-view+json": {
       "model_id": "cbf944ac086746a08930df10bd82d1a7",
       "version_major": 2,
       "version_minor": 0
      },
      "text/plain": [
       "  0%|          | 0/1 [00:00<?, ?it/s]"
      ]
     },
     "metadata": {},
     "output_type": "display_data"
    },
    {
     "data": {
      "text/html": [
       "<div>\n",
       "<style scoped>\n",
       "    .dataframe tbody tr th:only-of-type {\n",
       "        vertical-align: middle;\n",
       "    }\n",
       "\n",
       "    .dataframe tbody tr th {\n",
       "        vertical-align: top;\n",
       "    }\n",
       "\n",
       "    .dataframe thead th {\n",
       "        text-align: right;\n",
       "    }\n",
       "</style>\n",
       "<table border=\"1\" class=\"dataframe\">\n",
       "  <thead>\n",
       "    <tr style=\"text-align: right;\">\n",
       "      <th></th>\n",
       "      <th>text</th>\n",
       "      <th>label</th>\n",
       "    </tr>\n",
       "  </thead>\n",
       "  <tbody>\n",
       "    <tr>\n",
       "      <th>2148</th>\n",
       "      <td>Eruptive epidermoid cysts resulting from treat...</td>\n",
       "      <td>1</td>\n",
       "    </tr>\n",
       "    <tr>\n",
       "      <th>8891</th>\n",
       "      <td>Diagnosis, therapy, and complications of thera...</td>\n",
       "      <td>0</td>\n",
       "    </tr>\n",
       "    <tr>\n",
       "      <th>7660</th>\n",
       "      <td>This case report describes the diagnostic work...</td>\n",
       "      <td>0</td>\n",
       "    </tr>\n",
       "    <tr>\n",
       "      <th>7507</th>\n",
       "      <td>During IFN therapy, serum aminotransferases fe...</td>\n",
       "      <td>0</td>\n",
       "    </tr>\n",
       "    <tr>\n",
       "      <th>8174</th>\n",
       "      <td>Reversal of post-reperfusion coagulopathy by p...</td>\n",
       "      <td>0</td>\n",
       "    </tr>\n",
       "  </tbody>\n",
       "</table>\n",
       "</div>"
      ],
      "text/plain": [
       "                                                   text  label\n",
       "2148  Eruptive epidermoid cysts resulting from treat...      1\n",
       "8891  Diagnosis, therapy, and complications of thera...      0\n",
       "7660  This case report describes the diagnostic work...      0\n",
       "7507  During IFN therapy, serum aminotransferases fe...      0\n",
       "8174  Reversal of post-reperfusion coagulopathy by p...      0"
      ]
     },
     "execution_count": 2,
     "metadata": {},
     "output_type": "execute_result"
    }
   ],
   "source": [
    "from datasets import load_dataset\n",
    "import pandas as pd\n",
    "dataset = load_dataset('ade_corpus_v2', 'Ade_corpus_v2_classification')\n",
    "df = pd.DataFrame(dataset['train'])\n",
    "df.sample(5, random_state=124)"
   ]
  },
  {
   "cell_type": "markdown",
   "metadata": {},
   "source": [
    "### Determine ratio of positive ADE phrases compared to total dataset"
   ]
  },
  {
   "cell_type": "code",
   "execution_count": 3,
   "metadata": {},
   "outputs": [
    {
     "data": {
      "text/plain": [
       "0.29005783296478993"
      ]
     },
     "execution_count": 3,
     "metadata": {},
     "output_type": "execute_result"
    }
   ],
   "source": [
    "df['label'].sum()/len(df)"
   ]
  },
  {
   "cell_type": "markdown",
   "metadata": {},
   "source": [
    "### Initialise Sagemaker variables and copy data into S3 bucket"
   ]
  },
  {
   "cell_type": "code",
   "execution_count": 4,
   "metadata": {},
   "outputs": [],
   "source": [
    "from sagemaker.huggingface.processing import HuggingFaceProcessor\n",
    "import sagemaker\n",
    "from sagemaker import get_execution_role"
   ]
  },
  {
   "cell_type": "code",
   "execution_count": 5,
   "metadata": {},
   "outputs": [],
   "source": [
    "sess = sagemaker.Session()\n",
    "role = sagemaker.get_execution_role()\n",
    "bucket = f\"az-ade-{sess.account_id()}\"\n",
    "sess._create_s3_bucket_if_it_does_not_exist(bucket_name=bucket, region=sess._region_name)\n",
    "filepath = f\"s3://{bucket}/data/ade.csv\""
   ]
  },
  {
   "cell_type": "code",
   "execution_count": 6,
   "metadata": {},
   "outputs": [
    {
     "data": {
      "text/plain": [
       "'s3://az-ade-167374998168/data/ade.csv'"
      ]
     },
     "execution_count": 6,
     "metadata": {},
     "output_type": "execute_result"
    }
   ],
   "source": [
    "filepath"
   ]
  },
  {
   "cell_type": "code",
   "execution_count": 7,
   "metadata": {},
   "outputs": [
    {
     "name": "stdout",
     "output_type": "stream",
     "text": [
      "\n",
      "The user-provided path data/ade.csv does not exist.\n"
     ]
    }
   ],
   "source": [
    "!aws s3 cp data/ade.csv $filepath"
   ]
  },
  {
   "cell_type": "markdown",
   "metadata": {},
   "source": [
    "### Save the name of the S3 bucket for later sessions"
   ]
  },
  {
   "cell_type": "code",
   "execution_count": 8,
   "metadata": {},
   "outputs": [
    {
     "name": "stdout",
     "output_type": "stream",
     "text": [
      "Stored 'bucket' (str)\n"
     ]
    }
   ],
   "source": [
    "%store bucket"
   ]
  },
  {
   "cell_type": "markdown",
   "metadata": {},
   "source": [
    "### Set up processing job"
   ]
  },
  {
   "cell_type": "code",
   "execution_count": 9,
   "metadata": {},
   "outputs": [],
   "source": [
    "hf_processor = HuggingFaceProcessor(\n",
    "    role=role,\n",
    "    instance_type=\"ml.p3.2xlarge\",\n",
    "    transformers_version='4.6',\n",
    "    base_job_name=\"az-ade\",\n",
    "    pytorch_version='1.7',\n",
    "    instance_count=1,\n",
    ")"
   ]
  },
  {
   "cell_type": "code",
   "execution_count": 10,
   "metadata": {},
   "outputs": [],
   "source": [
    "from sagemaker.processing import ProcessingInput, ProcessingOutput\n",
    "\n",
    "outputs=[\n",
    "        ProcessingOutput(output_name=\"train_data\", source=\"/opt/ml/processing/training\", destination=f\"s3://{bucket}/processing_output/train_data\"),\n",
    "        ProcessingOutput(output_name=\"validation_data\", source=\"/opt/ml/processing/validation\", destination=f\"s3://{bucket}/processing_output/validation_data\"),\n",
    "        ProcessingOutput(output_name=\"test_data\", source=\"/opt/ml/processing/test\", destination=f\"s3://{bucket}/processing_output/test_data\"),\n",
    "    ]\n",
    "arguments = [\"--dataset-name\", \"ade_corpus_v2\",\n",
    "             \"--datasubset-name\", \"Ade_corpus_v2_classification\",\n",
    "             \"--model-name\", \"distilbert-base-uncased\",\n",
    "             \"--train-ratio\", \"0.7\",\n",
    "             \"--val-ratio\", \"0.15\",]"
   ]
  },
  {
   "cell_type": "code",
   "execution_count": 11,
   "metadata": {},
   "outputs": [
    {
     "name": "stdout",
     "output_type": "stream",
     "text": [
      "\n",
      "Job Name:  az-ade-2021-10-07-13-51-31-200\n",
      "Inputs:  [{'InputName': 'code', 'AppManaged': False, 'S3Input': {'S3Uri': 's3://sagemaker-us-east-1-167374998168/az-ade-2021-10-07-13-51-31-200/source/sourcedir.tar.gz', 'LocalPath': '/opt/ml/processing/input/code/', 'S3DataType': 'S3Prefix', 'S3InputMode': 'File', 'S3DataDistributionType': 'FullyReplicated', 'S3CompressionType': 'None'}}, {'InputName': 'entrypoint', 'AppManaged': False, 'S3Input': {'S3Uri': 's3://sagemaker-us-east-1-167374998168/az-ade-2021-10-07-13-51-31-200/source/runproc.sh', 'LocalPath': '/opt/ml/processing/input/entrypoint', 'S3DataType': 'S3Prefix', 'S3InputMode': 'File', 'S3DataDistributionType': 'FullyReplicated', 'S3CompressionType': 'None'}}]\n",
      "Outputs:  [{'OutputName': 'train_data', 'AppManaged': False, 'S3Output': {'S3Uri': 's3://az-ade-167374998168/processing_output/train_data', 'LocalPath': '/opt/ml/processing/training', 'S3UploadMode': 'EndOfJob'}}, {'OutputName': 'validation_data', 'AppManaged': False, 'S3Output': {'S3Uri': 's3://az-ade-167374998168/processing_output/validation_data', 'LocalPath': '/opt/ml/processing/validation', 'S3UploadMode': 'EndOfJob'}}, {'OutputName': 'test_data', 'AppManaged': False, 'S3Output': {'S3Uri': 's3://az-ade-167374998168/processing_output/test_data', 'LocalPath': '/opt/ml/processing/test', 'S3UploadMode': 'EndOfJob'}}]\n",
      "............................................\u001b[34mReceived arguments Namespace(dataset_name='ade_corpus_v2', datasubset_name='Ade_corpus_v2_classification', model_name='distilbert-base-uncased', train_ratio=0.7, val_ratio=0.15)\u001b[0m\n",
      "\u001b[34m#015Downloading:   0%|          | 0.00/3.02k [00:00<?, ?B/s]#015Downloading: 11.7kB [00:00, 8.27MB/s]                   \u001b[0m\n",
      "\u001b[34m#015Downloading:   0%|          | 0.00/1.92k [00:00<?, ?B/s]#015Downloading: 11.9kB [00:00, 10.1MB/s]                   \u001b[0m\n",
      "\u001b[34mDownloading and preparing dataset ade_corpus_v2/Ade_corpus_v2_classification (download: 3.62 MiB, generated: 3.25 MiB, post-processed: Unknown size, total: 6.86 MiB) to /root/.cache/huggingface/datasets/ade_corpus_v2/Ade_corpus_v2_classification/1.0.0/940d61334dbfac6b01ac5d00286a2122608b8dc79706ee7e9206a1edb172c559...\u001b[0m\n",
      "\u001b[34m#015Downloading:   0%|          | 0.00/307k [00:00<?, ?B/s]#015Downloading: 1.42MB [00:00, 71.3MB/s]                  \u001b[0m\n",
      "\u001b[34m#015Downloading:   0%|          | 0.00/18.0k [00:00<?, ?B/s]#015Downloading: 59.7kB [00:00, 25.3MB/s]                   \u001b[0m\n",
      "\u001b[34m#015Downloading:   0%|          | 0.00/868k [00:00<?, ?B/s]#015Downloading: 2.31MB [00:00, 50.5MB/s]                  \u001b[0m\n",
      "\u001b[34mDataset ade_corpus_v2 downloaded and prepared to /root/.cache/huggingface/datasets/ade_corpus_v2/Ade_corpus_v2_classification/1.0.0/940d61334dbfac6b01ac5d00286a2122608b8dc79706ee7e9206a1edb172c559. Subsequent calls will reuse this data.\u001b[0m\n",
      "\u001b[34mNumber of records before deduplication: 23516\u001b[0m\n",
      "\u001b[34mNumber of records after deduplication: 20896\u001b[0m\n",
      "\u001b[34m#0150 examples [00:00, ? examples/s]#015416 examples [00:00, 3515.78 examples/s]#0156136 examples [00:00, 4893.61 examples/s]#01511491 examples [00:00, 6727.37 examples/s]#01517460 examples [00:00, 9167.65 examples/s]#01523270 examples [00:00, 12267.08 examples/s]#015                                           #015#015Downloading:   0%|          | 0.00/483 [00:00<?, ?B/s]#015Downloading: 100%|██████████| 483/483 [00:00<00:00, 646kB/s]\u001b[0m\n",
      "\u001b[34m#015Downloading:   0%|          | 0.00/232k [00:00<?, ?B/s]#015Downloading: 100%|██████████| 232k/232k [00:00<00:00, 41.0MB/s]\u001b[0m\n",
      "\u001b[34m#015Downloading:   0%|          | 0.00/466k [00:00<?, ?B/s]#015Downloading: 100%|██████████| 466k/466k [00:00<00:00, 38.4MB/s]\u001b[0m\n",
      "\u001b[34m#015Downloading:   0%|          | 0.00/28.0 [00:00<?, ?B/s]#015Downloading: 100%|██████████| 28.0/28.0 [00:00<00:00, 37.1kB/s]\u001b[0m\n",
      "\u001b[34m#015  0%|          | 0/1 [00:00<?, ?ba/s]#015100%|██████████| 1/1 [00:05<00:00,  5.18s/ba]#015100%|██████████| 1/1 [00:05<00:00,  5.18s/ba]\u001b[0m\n",
      "\u001b[34m#015  0%|          | 0/1 [00:00<?, ?ba/s]#015100%|██████████| 1/1 [00:00<00:00,  2.15ba/s]#015100%|██████████| 1/1 [00:00<00:00,  2.14ba/s]\u001b[0m\n",
      "\u001b[34m#015  0%|          | 0/1 [00:00<?, ?ba/s]#015100%|██████████| 1/1 [00:00<00:00,  1.94ba/s]#015100%|██████████| 1/1 [00:00<00:00,  1.94ba/s]\u001b[0m\n",
      "\n"
     ]
    }
   ],
   "source": [
    "hf_processor.run(\n",
    "    code=\"scripts/preprocess.py\",\n",
    "    outputs=outputs,\n",
    "    arguments=arguments\n",
    ")"
   ]
  },
  {
   "cell_type": "code",
   "execution_count": 12,
   "metadata": {},
   "outputs": [
    {
     "name": "stdout",
     "output_type": "stream",
     "text": [
      "s3://az-ade-167374998168/processing_output/train_data\n",
      "s3://az-ade-167374998168/processing_output/validation_data\n",
      "s3://az-ade-167374998168/processing_output/test_data\n"
     ]
    }
   ],
   "source": [
    "preprocessing_job_description = hf_processor.jobs[-1].describe()\n",
    "\n",
    "output_config = preprocessing_job_description['ProcessingOutputConfig']\n",
    "for output in output_config['Outputs']:\n",
    "    print(output['S3Output']['S3Uri'])"
   ]
  }
 ],
 "metadata": {
  "instance_type": "ml.t3.medium",
  "kernelspec": {
   "display_name": "Python 3 (PyTorch 1.6 Python 3.6 CPU Optimized)",
   "language": "python",
   "name": "python3__SAGEMAKER_INTERNAL__arn:aws:sagemaker:us-east-1:081325390199:image/pytorch-1.6-cpu-py36-ubuntu16.04-v1"
  },
  "language_info": {
   "codemirror_mode": {
    "name": "ipython",
    "version": 3
   },
   "file_extension": ".py",
   "mimetype": "text/x-python",
   "name": "python",
   "nbconvert_exporter": "python",
   "pygments_lexer": "ipython3",
   "version": "3.6.13"
  }
 },
 "nbformat": 4,
 "nbformat_minor": 5
}
