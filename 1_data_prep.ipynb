{
 "cells": [
  {
   "cell_type": "markdown",
   "id": "85943605",
   "metadata": {},
   "source": [
    "### Load dataset and have a peak:"
   ]
  },
  {
   "cell_type": "code",
   "execution_count": null,
   "id": "19484f2c",
   "metadata": {},
   "outputs": [],
   "source": [
    "import pandas as pd\n",
    "df = pd.read_csv('data/ade.csv')\n",
    "df.sample(10)"
   ]
  },
  {
   "cell_type": "markdown",
   "id": "e8677b23",
   "metadata": {},
   "source": [
    "### Determine ratio of positive ADE phrases compared to total dataset"
   ]
  },
  {
   "cell_type": "code",
   "execution_count": null,
   "id": "a7f9cfe2",
   "metadata": {},
   "outputs": [],
   "source": [
    "df['label'].sum()/len(df)"
   ]
  },
  {
   "cell_type": "markdown",
   "id": "c48efe22",
   "metadata": {},
   "source": [
    "### Initialise Sagemaker variables and copy data into S3 bucket"
   ]
  },
  {
   "cell_type": "code",
   "execution_count": null,
   "id": "da55a8da",
   "metadata": {},
   "outputs": [],
   "source": [
    "from sagemaker.huggingface.processing import HuggingFaceProcessor\n",
    "import sagemaker\n",
    "from sagemaker import get_execution_role"
   ]
  },
  {
   "cell_type": "code",
   "execution_count": null,
   "id": "a840ea83",
   "metadata": {},
   "outputs": [],
   "source": [
    "sess = sagemaker.Session()\n",
    "role = sagemaker.get_execution_role()\n",
    "bucket = f\"az-ade-{sess.account_id()}\"\n",
    "sess._create_s3_bucket_if_it_does_not_exist(bucket_name=bucket, region=sess._region_name)\n",
    "filepath = f\"s3://{bucket}/data/ade.csv\""
   ]
  },
  {
   "cell_type": "code",
   "execution_count": null,
   "id": "c5725675",
   "metadata": {},
   "outputs": [],
   "source": [
    "filepath"
   ]
  },
  {
   "cell_type": "code",
   "execution_count": null,
   "id": "8e74ff8b",
   "metadata": {},
   "outputs": [],
   "source": [
    "!aws s3 cp data/ade.csv $filepath"
   ]
  },
  {
   "cell_type": "markdown",
   "id": "0445fa73",
   "metadata": {},
   "source": [
    "### Save the name of the S3 bucket for later sessions"
   ]
  },
  {
   "cell_type": "code",
   "execution_count": null,
   "id": "04ea394c",
   "metadata": {},
   "outputs": [],
   "source": [
    "%store bucket"
   ]
  },
  {
   "cell_type": "markdown",
   "id": "3a293c43",
   "metadata": {},
   "source": [
    "### Set up processing job"
   ]
  },
  {
   "cell_type": "code",
   "execution_count": null,
   "id": "6329be98",
   "metadata": {},
   "outputs": [],
   "source": [
    "hf_processor = HuggingFaceProcessor(\n",
    "    role=role,\n",
    "    instance_type=\"ml.p3.2xlarge\",\n",
    "    transformers_version='4.6',\n",
    "    base_job_name=\"az-ade\",\n",
    "    pytorch_version='1.7',\n",
    "    instance_count=1,\n",
    ")"
   ]
  },
  {
   "cell_type": "code",
   "execution_count": null,
   "id": "fad1e32a",
   "metadata": {},
   "outputs": [],
   "source": [
    "from sagemaker.processing import ProcessingInput, ProcessingOutput\n",
    "\n",
    "inputs = [ProcessingInput(source=filepath, destination=\"/opt/ml/processing/input\")]\n",
    "outputs=[\n",
    "        ProcessingOutput(output_name=\"train_data\", source=\"/opt/ml/processing/training\", destination=f\"s3://{bucket}/processing_output/train_data\"),\n",
    "        ProcessingOutput(output_name=\"validation_data\", source=\"/opt/ml/processing/validation\", destination=f\"s3://{bucket}/processing_output/validation_data\"),\n",
    "        ProcessingOutput(output_name=\"test_data\", source=\"/opt/ml/processing/test\", destination=f\"s3://{bucket}/processing_output/test_data\"),\n",
    "    ]\n",
    "arguments = [\"--file-name\", \"ade.csv\",\n",
    "             \"--model-name\", \"distilbert-base-uncased\",\n",
    "             \"--train-ratio\", \"0.7\",\n",
    "             \"--val-ratio\", \"0.15\",]"
   ]
  },
  {
   "cell_type": "code",
   "execution_count": null,
   "id": "ecbcd0ab",
   "metadata": {
    "scrolled": true
   },
   "outputs": [],
   "source": [
    "hf_processor.run(\n",
    "    code=\"scripts/preprocess.py\",\n",
    "    inputs=inputs,\n",
    "    outputs=outputs,\n",
    "    arguments=arguments\n",
    ")"
   ]
  },
  {
   "cell_type": "code",
   "execution_count": null,
   "id": "70399792",
   "metadata": {},
   "outputs": [],
   "source": [
    "preprocessing_job_description = hf_processor.jobs[-1].describe()\n",
    "\n",
    "output_config = preprocessing_job_description['ProcessingOutputConfig']\n",
    "for output in output_config['Outputs']:\n",
    "    print(output['S3Output']['S3Uri'])"
   ]
  }
 ],
 "metadata": {
  "kernelspec": {
   "display_name": "conda_pytorch_latest_p37",
   "language": "python",
   "name": "conda_pytorch_latest_p37"
  },
  "language_info": {
   "codemirror_mode": {
    "name": "ipython",
    "version": 3
   },
   "file_extension": ".py",
   "mimetype": "text/x-python",
   "name": "python",
   "nbconvert_exporter": "python",
   "pygments_lexer": "ipython3",
   "version": "3.7.10"
  }
 },
 "nbformat": 4,
 "nbformat_minor": 5
}
