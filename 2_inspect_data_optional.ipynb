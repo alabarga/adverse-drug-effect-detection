{
 "cells": [
  {
   "cell_type": "code",
   "execution_count": 5,
   "id": "13a05f1f",
   "metadata": {},
   "outputs": [],
   "source": [
    "import sagemaker\n",
    "import pandas as pd"
   ]
  },
  {
   "cell_type": "code",
   "execution_count": 2,
   "id": "98e3cdb8",
   "metadata": {},
   "outputs": [],
   "source": [
    "sess = sagemaker.Session()"
   ]
  },
  {
   "cell_type": "code",
   "execution_count": 3,
   "id": "ea55673c",
   "metadata": {},
   "outputs": [],
   "source": [
    "from datasets import load_from_disk\n",
    "from datasets.filesystems import S3FileSystem\n",
    "\n",
    "s3 = S3FileSystem(session=sess)\n",
    "\n",
    "dataset = load_from_disk('s3://az-ade-905847418383/processing_output/train_data/',fs=s3)"
   ]
  },
  {
   "cell_type": "code",
   "execution_count": 7,
   "id": "5f127473",
   "metadata": {},
   "outputs": [],
   "source": [
    "df_train = pd.DataFrame(dataset)"
   ]
  },
  {
   "cell_type": "code",
   "execution_count": 8,
   "id": "97d93d85",
   "metadata": {},
   "outputs": [
    {
     "data": {
      "text/html": [
       "<div>\n",
       "<style scoped>\n",
       "    .dataframe tbody tr th:only-of-type {\n",
       "        vertical-align: middle;\n",
       "    }\n",
       "\n",
       "    .dataframe tbody tr th {\n",
       "        vertical-align: top;\n",
       "    }\n",
       "\n",
       "    .dataframe thead th {\n",
       "        text-align: right;\n",
       "    }\n",
       "</style>\n",
       "<table border=\"1\" class=\"dataframe\">\n",
       "  <thead>\n",
       "    <tr style=\"text-align: right;\">\n",
       "      <th></th>\n",
       "      <th>__index_level_0__</th>\n",
       "      <th>attention_mask</th>\n",
       "      <th>input_ids</th>\n",
       "      <th>label</th>\n",
       "      <th>text</th>\n",
       "    </tr>\n",
       "  </thead>\n",
       "  <tbody>\n",
       "    <tr>\n",
       "      <th>0</th>\n",
       "      <td>12628</td>\n",
       "      <td>[1, 1, 1, 1, 1, 1, 1, 1, 1, 1, 1, 1, 1, 1, 1, ...</td>\n",
       "      <td>[101, 7263, 1999, 6767, 7630, 3508, 1997, 1996...</td>\n",
       "      <td>0</td>\n",
       "      <td>Slight involution of the goiter within seven m...</td>\n",
       "    </tr>\n",
       "    <tr>\n",
       "      <th>1</th>\n",
       "      <td>4465</td>\n",
       "      <td>[1, 1, 1, 1, 1, 1, 1, 1, 1, 1, 1, 1, 1, 1, 1, ...</td>\n",
       "      <td>[101, 2553, 12654, 1024, 1037, 6163, 1011, 209...</td>\n",
       "      <td>0</td>\n",
       "      <td>CASE SUMMARY: A 67-year-old woman received rad...</td>\n",
       "    </tr>\n",
       "    <tr>\n",
       "      <th>2</th>\n",
       "      <td>6339</td>\n",
       "      <td>[1, 1, 1, 1, 1, 1, 1, 1, 1, 1, 1, 1, 1, 1, 1, ...</td>\n",
       "      <td>[101, 2002, 6757, 2044, 3447, 1997, 3424, 1011...</td>\n",
       "      <td>0</td>\n",
       "      <td>He recovered after administration of anti-hist...</td>\n",
       "    </tr>\n",
       "    <tr>\n",
       "      <th>3</th>\n",
       "      <td>14671</td>\n",
       "      <td>[1, 1, 1, 1, 1, 1, 1, 1, 1, 1, 1, 1, 1, 1, 1, ...</td>\n",
       "      <td>[101, 1996, 11616, 1997, 3674, 2026, 18349, 28...</td>\n",
       "      <td>0</td>\n",
       "      <td>The diagnosis of multiple myeloma was made in ...</td>\n",
       "    </tr>\n",
       "    <tr>\n",
       "      <th>4</th>\n",
       "      <td>11140</td>\n",
       "      <td>[1, 1, 1, 1, 1, 1, 1, 1, 1, 1, 1, 1, 1, 1, 1, ...</td>\n",
       "      <td>[101, 6135, 27159, 3085, 2310, 18674, 5080, 10...</td>\n",
       "      <td>0</td>\n",
       "      <td>Totally implantable venous device (TIVD) are w...</td>\n",
       "    </tr>\n",
       "    <tr>\n",
       "      <th>5</th>\n",
       "      <td>808</td>\n",
       "      <td>[1, 1, 1, 1, 1, 1, 1, 1, 1, 1, 1, 1, 1, 1, 1, ...</td>\n",
       "      <td>[101, 4487, 11393, 26972, 3526, 15859, 4588, 1...</td>\n",
       "      <td>1</td>\n",
       "      <td>Disseminated cellulitic cryptococcosis in the ...</td>\n",
       "    </tr>\n",
       "    <tr>\n",
       "      <th>6</th>\n",
       "      <td>681</td>\n",
       "      <td>[1, 1, 1, 1, 1, 1, 1, 1, 1, 1, 1, 1, 1, 1, 1, ...</td>\n",
       "      <td>[101, 4748, 2232, 23760, 3366, 16748, 3508, 19...</td>\n",
       "      <td>1</td>\n",
       "      <td>ADH hypersecretion in relation to plasma osmol...</td>\n",
       "    </tr>\n",
       "    <tr>\n",
       "      <th>7</th>\n",
       "      <td>4540</td>\n",
       "      <td>[1, 1, 1, 1, 1, 1, 1, 1, 1, 1, 1, 1, 1, 1, 1, ...</td>\n",
       "      <td>[101, 2004, 4842, 19791, 2271, 11865, 4328, 20...</td>\n",
       "      <td>0</td>\n",
       "      <td>Aspergillus fumigatus keratitis following lase...</td>\n",
       "    </tr>\n",
       "    <tr>\n",
       "      <th>8</th>\n",
       "      <td>6725</td>\n",
       "      <td>[1, 1, 1, 1, 1, 1, 1, 1, 1, 1, 1, 1, 1, 1, 1, ...</td>\n",
       "      <td>[101, 1037, 5764, 2095, 2214, 9820, 10372, 328...</td>\n",
       "      <td>0</td>\n",
       "      <td>A 66 year old HIV infected male heavy smoker p...</td>\n",
       "    </tr>\n",
       "    <tr>\n",
       "      <th>9</th>\n",
       "      <td>4533</td>\n",
       "      <td>[1, 1, 1, 1, 1, 1, 1, 1, 1, 1, 1, 1, 1, 1, 1, ...</td>\n",
       "      <td>[101, 2702, 5022, 2007, 14412, 27815, 27734, 2...</td>\n",
       "      <td>0</td>\n",
       "      <td>Ten patients with palatal tremor have presente...</td>\n",
       "    </tr>\n",
       "  </tbody>\n",
       "</table>\n",
       "</div>"
      ],
      "text/plain": [
       "   __index_level_0__                                     attention_mask  \\\n",
       "0              12628  [1, 1, 1, 1, 1, 1, 1, 1, 1, 1, 1, 1, 1, 1, 1, ...   \n",
       "1               4465  [1, 1, 1, 1, 1, 1, 1, 1, 1, 1, 1, 1, 1, 1, 1, ...   \n",
       "2               6339  [1, 1, 1, 1, 1, 1, 1, 1, 1, 1, 1, 1, 1, 1, 1, ...   \n",
       "3              14671  [1, 1, 1, 1, 1, 1, 1, 1, 1, 1, 1, 1, 1, 1, 1, ...   \n",
       "4              11140  [1, 1, 1, 1, 1, 1, 1, 1, 1, 1, 1, 1, 1, 1, 1, ...   \n",
       "5                808  [1, 1, 1, 1, 1, 1, 1, 1, 1, 1, 1, 1, 1, 1, 1, ...   \n",
       "6                681  [1, 1, 1, 1, 1, 1, 1, 1, 1, 1, 1, 1, 1, 1, 1, ...   \n",
       "7               4540  [1, 1, 1, 1, 1, 1, 1, 1, 1, 1, 1, 1, 1, 1, 1, ...   \n",
       "8               6725  [1, 1, 1, 1, 1, 1, 1, 1, 1, 1, 1, 1, 1, 1, 1, ...   \n",
       "9               4533  [1, 1, 1, 1, 1, 1, 1, 1, 1, 1, 1, 1, 1, 1, 1, ...   \n",
       "\n",
       "                                           input_ids  label  \\\n",
       "0  [101, 7263, 1999, 6767, 7630, 3508, 1997, 1996...      0   \n",
       "1  [101, 2553, 12654, 1024, 1037, 6163, 1011, 209...      0   \n",
       "2  [101, 2002, 6757, 2044, 3447, 1997, 3424, 1011...      0   \n",
       "3  [101, 1996, 11616, 1997, 3674, 2026, 18349, 28...      0   \n",
       "4  [101, 6135, 27159, 3085, 2310, 18674, 5080, 10...      0   \n",
       "5  [101, 4487, 11393, 26972, 3526, 15859, 4588, 1...      1   \n",
       "6  [101, 4748, 2232, 23760, 3366, 16748, 3508, 19...      1   \n",
       "7  [101, 2004, 4842, 19791, 2271, 11865, 4328, 20...      0   \n",
       "8  [101, 1037, 5764, 2095, 2214, 9820, 10372, 328...      0   \n",
       "9  [101, 2702, 5022, 2007, 14412, 27815, 27734, 2...      0   \n",
       "\n",
       "                                                text  \n",
       "0  Slight involution of the goiter within seven m...  \n",
       "1  CASE SUMMARY: A 67-year-old woman received rad...  \n",
       "2  He recovered after administration of anti-hist...  \n",
       "3  The diagnosis of multiple myeloma was made in ...  \n",
       "4  Totally implantable venous device (TIVD) are w...  \n",
       "5  Disseminated cellulitic cryptococcosis in the ...  \n",
       "6  ADH hypersecretion in relation to plasma osmol...  \n",
       "7  Aspergillus fumigatus keratitis following lase...  \n",
       "8  A 66 year old HIV infected male heavy smoker p...  \n",
       "9  Ten patients with palatal tremor have presente...  "
      ]
     },
     "execution_count": 8,
     "metadata": {},
     "output_type": "execute_result"
    }
   ],
   "source": [
    "df_train.head(10)"
   ]
  },
  {
   "cell_type": "code",
   "execution_count": 9,
   "id": "0946710c",
   "metadata": {},
   "outputs": [
    {
     "data": {
      "text/plain": [
       "0.20427975661448008"
      ]
     },
     "execution_count": 9,
     "metadata": {},
     "output_type": "execute_result"
    }
   ],
   "source": [
    "df_train['label'].sum()/len(df_train)"
   ]
  },
  {
   "cell_type": "code",
   "execution_count": 10,
   "id": "08de5623",
   "metadata": {},
   "outputs": [
    {
     "data": {
      "text/plain": [
       "__index_level_0__                                                12628\n",
       "attention_mask       [1, 1, 1, 1, 1, 1, 1, 1, 1, 1, 1, 1, 1, 1, 1, ...\n",
       "input_ids            [101, 7263, 1999, 6767, 7630, 3508, 1997, 1996...\n",
       "label                                                                0\n",
       "text                 Slight involution of the goiter within seven m...\n",
       "Name: 0, dtype: object"
      ]
     },
     "execution_count": 10,
     "metadata": {},
     "output_type": "execute_result"
    }
   ],
   "source": [
    "df_train.iloc[0]"
   ]
  },
  {
   "cell_type": "code",
   "execution_count": null,
   "id": "c6e8032d",
   "metadata": {},
   "outputs": [],
   "source": []
  }
 ],
 "metadata": {
  "kernelspec": {
   "display_name": "conda_pytorch_latest_p37",
   "language": "python",
   "name": "conda_pytorch_latest_p37"
  },
  "language_info": {
   "codemirror_mode": {
    "name": "ipython",
    "version": 3
   },
   "file_extension": ".py",
   "mimetype": "text/x-python",
   "name": "python",
   "nbconvert_exporter": "python",
   "pygments_lexer": "ipython3",
   "version": "3.7.10"
  }
 },
 "nbformat": 4,
 "nbformat_minor": 5
}
